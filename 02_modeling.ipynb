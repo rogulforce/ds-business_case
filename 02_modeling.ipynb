{
 "cells": [
  {
   "cell_type": "code",
   "execution_count": 1,
   "outputs": [],
   "source": [
    "import pandas as pd\n",
    "import pickle\n",
    "from sklearn.ensemble import HistGradientBoostingClassifier\n",
    "from sklearn.model_selection import train_test_split"
   ],
   "metadata": {
    "collapsed": false,
    "pycharm": {
     "name": "#%%\n"
    }
   }
  },
  {
   "cell_type": "code",
   "execution_count": 2,
   "metadata": {
    "collapsed": true
   },
   "outputs": [
    {
     "data": {
      "text/plain": "   user_id  target  location_population  location_from_population  \\\n0        0     1.0             0.012442                  0.012381   \n1        1     0.0             0.009947                  0.009885   \n2        2     1.0             0.002321                  0.002258   \n3        3     0.0             0.199298                  0.199248   \n4        4     0.0             0.000871                  0.304888   \n\n   daily_commute  friends_number  education  hobby_3dprinting  hobby_acting  \\\n0       0.464646        0.316640        NaN                 0             0   \n1       0.555556        0.392569        NaN                 0             0   \n2       0.909091        0.308562        0.4                 0             0   \n3       0.888889        0.264943        0.4                 0             0   \n4       0.404040        0.192246        0.8                 0             0   \n\n   hobby_airsports  ...  occupation_teachingprofessionals  \\\n0                0  ...                                 1   \n1                0  ...                                 0   \n2                0  ...                                 0   \n3                0  ...                                 0   \n4                0  ...                                 0   \n\n   relationship_divorced  relationship_inrelationship  relationship_married  \\\n0                      0                            0                     0   \n1                      0                            0                     0   \n2                      0                            1                     0   \n3                      0                            1                     0   \n4                      0                            0                     0   \n\n   relationship_marriedwithkids  relationship_single  card_American Express  \\\n0                             0                    1                      0   \n1                             0                    1                      0   \n2                             0                    0                      0   \n3                             0                    0                      0   \n4                             1                    0                      0   \n\n   card_Mastercard  card_Revolut  card_Visa  \n0                0             0          1  \n1                0             0          0  \n2                0             0          0  \n3                0             0          1  \n4                0             0          0  \n\n[5 rows x 1698 columns]",
      "text/html": "<div>\n<style scoped>\n    .dataframe tbody tr th:only-of-type {\n        vertical-align: middle;\n    }\n\n    .dataframe tbody tr th {\n        vertical-align: top;\n    }\n\n    .dataframe thead th {\n        text-align: right;\n    }\n</style>\n<table border=\"1\" class=\"dataframe\">\n  <thead>\n    <tr style=\"text-align: right;\">\n      <th></th>\n      <th>user_id</th>\n      <th>target</th>\n      <th>location_population</th>\n      <th>location_from_population</th>\n      <th>daily_commute</th>\n      <th>friends_number</th>\n      <th>education</th>\n      <th>hobby_3dprinting</th>\n      <th>hobby_acting</th>\n      <th>hobby_airsports</th>\n      <th>...</th>\n      <th>occupation_teachingprofessionals</th>\n      <th>relationship_divorced</th>\n      <th>relationship_inrelationship</th>\n      <th>relationship_married</th>\n      <th>relationship_marriedwithkids</th>\n      <th>relationship_single</th>\n      <th>card_American Express</th>\n      <th>card_Mastercard</th>\n      <th>card_Revolut</th>\n      <th>card_Visa</th>\n    </tr>\n  </thead>\n  <tbody>\n    <tr>\n      <th>0</th>\n      <td>0</td>\n      <td>1.0</td>\n      <td>0.012442</td>\n      <td>0.012381</td>\n      <td>0.464646</td>\n      <td>0.316640</td>\n      <td>NaN</td>\n      <td>0</td>\n      <td>0</td>\n      <td>0</td>\n      <td>...</td>\n      <td>1</td>\n      <td>0</td>\n      <td>0</td>\n      <td>0</td>\n      <td>0</td>\n      <td>1</td>\n      <td>0</td>\n      <td>0</td>\n      <td>0</td>\n      <td>1</td>\n    </tr>\n    <tr>\n      <th>1</th>\n      <td>1</td>\n      <td>0.0</td>\n      <td>0.009947</td>\n      <td>0.009885</td>\n      <td>0.555556</td>\n      <td>0.392569</td>\n      <td>NaN</td>\n      <td>0</td>\n      <td>0</td>\n      <td>0</td>\n      <td>...</td>\n      <td>0</td>\n      <td>0</td>\n      <td>0</td>\n      <td>0</td>\n      <td>0</td>\n      <td>1</td>\n      <td>0</td>\n      <td>0</td>\n      <td>0</td>\n      <td>0</td>\n    </tr>\n    <tr>\n      <th>2</th>\n      <td>2</td>\n      <td>1.0</td>\n      <td>0.002321</td>\n      <td>0.002258</td>\n      <td>0.909091</td>\n      <td>0.308562</td>\n      <td>0.4</td>\n      <td>0</td>\n      <td>0</td>\n      <td>0</td>\n      <td>...</td>\n      <td>0</td>\n      <td>0</td>\n      <td>1</td>\n      <td>0</td>\n      <td>0</td>\n      <td>0</td>\n      <td>0</td>\n      <td>0</td>\n      <td>0</td>\n      <td>0</td>\n    </tr>\n    <tr>\n      <th>3</th>\n      <td>3</td>\n      <td>0.0</td>\n      <td>0.199298</td>\n      <td>0.199248</td>\n      <td>0.888889</td>\n      <td>0.264943</td>\n      <td>0.4</td>\n      <td>0</td>\n      <td>0</td>\n      <td>0</td>\n      <td>...</td>\n      <td>0</td>\n      <td>0</td>\n      <td>1</td>\n      <td>0</td>\n      <td>0</td>\n      <td>0</td>\n      <td>0</td>\n      <td>0</td>\n      <td>0</td>\n      <td>1</td>\n    </tr>\n    <tr>\n      <th>4</th>\n      <td>4</td>\n      <td>0.0</td>\n      <td>0.000871</td>\n      <td>0.304888</td>\n      <td>0.404040</td>\n      <td>0.192246</td>\n      <td>0.8</td>\n      <td>0</td>\n      <td>0</td>\n      <td>0</td>\n      <td>...</td>\n      <td>0</td>\n      <td>0</td>\n      <td>0</td>\n      <td>0</td>\n      <td>1</td>\n      <td>0</td>\n      <td>0</td>\n      <td>0</td>\n      <td>0</td>\n      <td>0</td>\n    </tr>\n  </tbody>\n</table>\n<p>5 rows × 1698 columns</p>\n</div>"
     },
     "execution_count": 2,
     "metadata": {},
     "output_type": "execute_result"
    }
   ],
   "source": [
    "filename = 'data/temp_data/csv_data_preprocessed.pickle'\n",
    "with open(filename, 'rb') as handle:\n",
    "    df = pickle.load(handle)\n",
    "\n",
    "df.head()"
   ]
  },
  {
   "cell_type": "code",
   "execution_count": 3,
   "outputs": [],
   "source": [
    "\"\"\" split for train and test\"\"\"\n",
    "\n",
    "train = df.iloc[:4000,:]\n",
    "x_train = train.drop(columns=['target', 'user_id'])\n",
    "y_train = train['target']\n",
    "\n",
    "test = df.iloc[4000:,:]\n",
    "x_test = test.drop(columns=['target', 'user_id'])"
   ],
   "metadata": {
    "collapsed": false,
    "pycharm": {
     "name": "#%%\n"
    }
   }
  },
  {
   "cell_type": "code",
   "execution_count": 4,
   "outputs": [],
   "source": [
    "\"\"\" approach 1: Gradient boosting classifier.\n",
    "I use this particular method because:\n",
    "- Gradient boosting is known to be good classification method\n",
    "- it handles nans.\n",
    "\"\"\"\n",
    "pass"
   ],
   "metadata": {
    "collapsed": false,
    "pycharm": {
     "name": "#%%\n"
    }
   }
  },
  {
   "cell_type": "code",
   "execution_count": 5,
   "outputs": [],
   "source": [
    "reg = HistGradientBoostingClassifier()"
   ],
   "metadata": {
    "collapsed": false,
    "pycharm": {
     "name": "#%%\n"
    }
   }
  },
  {
   "cell_type": "code",
   "execution_count": 6,
   "outputs": [
    {
     "data": {
      "text/plain": "0.86375"
     },
     "execution_count": 6,
     "metadata": {},
     "output_type": "execute_result"
    }
   ],
   "source": [
    "\"\"\" cross validation \"\"\"\n",
    "CV_x_train, CV_x_test, CV_y_train, CV_y_test = train_test_split( x_train, y_train, test_size=0.2, random_state=0)\n",
    "clf = reg.fit(CV_x_train, CV_y_train)\n",
    "clf.score(CV_x_test, CV_y_test)"
   ],
   "metadata": {
    "collapsed": false,
    "pycharm": {
     "name": "#%%\n"
    }
   }
  },
  {
   "cell_type": "code",
   "execution_count": 7,
   "outputs": [],
   "source": [
    "\"\"\" fit \"\"\"\n",
    "reg.fit(x_train, y_train)\n",
    "pass"
   ],
   "metadata": {
    "collapsed": false,
    "pycharm": {
     "name": "#%%\n"
    }
   }
  },
  {
   "cell_type": "code",
   "execution_count": 8,
   "outputs": [],
   "source": [
    "\"\"\" predict \"\"\"\n",
    "y_pred_prob = reg.predict_proba(x_test)\n",
    "y_pred = reg.predict(x_test)"
   ],
   "metadata": {
    "collapsed": false,
    "pycharm": {
     "name": "#%%\n"
    }
   }
  },
  {
   "cell_type": "code",
   "execution_count": 12,
   "outputs": [
    {
     "data": {
      "text/plain": "         probability_of_one  target\nuser_id                            \n0                  0.822914     1.0\n1                  0.150622     0.0\n2                  0.036714     0.0\n3                  0.507152     1.0\n4                  0.241308     0.0",
      "text/html": "<div>\n<style scoped>\n    .dataframe tbody tr th:only-of-type {\n        vertical-align: middle;\n    }\n\n    .dataframe tbody tr th {\n        vertical-align: top;\n    }\n\n    .dataframe thead th {\n        text-align: right;\n    }\n</style>\n<table border=\"1\" class=\"dataframe\">\n  <thead>\n    <tr style=\"text-align: right;\">\n      <th></th>\n      <th>probability_of_one</th>\n      <th>target</th>\n    </tr>\n    <tr>\n      <th>user_id</th>\n      <th></th>\n      <th></th>\n    </tr>\n  </thead>\n  <tbody>\n    <tr>\n      <th>0</th>\n      <td>0.822914</td>\n      <td>1.0</td>\n    </tr>\n    <tr>\n      <th>1</th>\n      <td>0.150622</td>\n      <td>0.0</td>\n    </tr>\n    <tr>\n      <th>2</th>\n      <td>0.036714</td>\n      <td>0.0</td>\n    </tr>\n    <tr>\n      <th>3</th>\n      <td>0.507152</td>\n      <td>1.0</td>\n    </tr>\n    <tr>\n      <th>4</th>\n      <td>0.241308</td>\n      <td>0.0</td>\n    </tr>\n  </tbody>\n</table>\n</div>"
     },
     "execution_count": 12,
     "metadata": {},
     "output_type": "execute_result"
    }
   ],
   "source": [
    "prediction = pd.DataFrame(y_pred_prob[:,1], columns=['probability_of_one']).join(pd.DataFrame(y_pred, columns=['target']))\n",
    "prediction.index.name='user_id'\n",
    "prediction.head()"
   ],
   "metadata": {
    "collapsed": false,
    "pycharm": {
     "name": "#%%\n"
    }
   }
  },
  {
   "cell_type": "code",
   "execution_count": 10,
   "outputs": [],
   "source": [
    "\"\"\" save result\"\"\"\n",
    "prediction.to_csv('result.csv')"
   ],
   "metadata": {
    "collapsed": false,
    "pycharm": {
     "name": "#%%\n"
    }
   }
  },
  {
   "cell_type": "code",
   "execution_count": 11,
   "outputs": [],
   "source": [
    "# TODO: create cross validation subsets and check how regularization works there.\n",
    "    # do metrics, check for overfitting, bias, etc.\n",
    "\n",
    "# TODO: check other algorithms\n",
    "#   with different normalization methods\n",
    "#   with different nan handlings\n"
   ],
   "metadata": {
    "collapsed": false,
    "pycharm": {
     "name": "#%%\n"
    }
   }
  }
 ],
 "metadata": {
  "kernelspec": {
   "display_name": "Python 3",
   "language": "python",
   "name": "python3"
  },
  "language_info": {
   "codemirror_mode": {
    "name": "ipython",
    "version": 2
   },
   "file_extension": ".py",
   "mimetype": "text/x-python",
   "name": "python",
   "nbconvert_exporter": "python",
   "pygments_lexer": "ipython2",
   "version": "2.7.6"
  }
 },
 "nbformat": 4,
 "nbformat_minor": 0
}